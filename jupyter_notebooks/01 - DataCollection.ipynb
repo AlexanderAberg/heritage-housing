{
 "cells": [
  {
   "cell_type": "markdown",
   "metadata": {
    "id": "0aStgWSO0E0E"
   },
   "source": [
    "# **Data Collection Notebook**"
   ]
  },
  {
   "cell_type": "markdown",
   "metadata": {
    "id": "1eLEkw5O0ECa"
   },
   "source": [
    "## Objectives\n",
    "\n",
    "* Fetch data from Kaggle and save it as raw data.\n",
    "* Inspect the data and save it under outputs/datasets/collection\n",
    "\n",
    "## Inputs\n",
    "\n",
    "*   Kaggle JSON file - the authentication token.\n",
    "*   inputs/datasets/raw/house-price-20211124T154130Z-001/house-price/house_prices_records.csv\n",
    "*   inputs/datasets/raw/house-price-20211124T154130Z-001/house-price/inherited_houses.csv\n",
    "\n",
    "## Outputs\n",
    "\n",
    "* Generate Dataset: outputs/datasets/collection/HousePrices.csv\n",
    "* Generate Dataset: outputs/datasets/collection/InheritedHouses.csv\n",
    "\n",
    "## Additional Comments\n",
    "\n",
    "*  Data collection is essential to be able to deliver according to the two business requirements.\n",
    "*  The client is interested in discovering how the house attributes correlate with the sale price. \n",
    "   Therefore, the client expects data visualisations of the correlated variables against the sale price to show that.\n",
    "*  The client is interested in predicting the house sale price from her four inherited houses and any other house in Ames, Iowa.\n"
   ]
  },
  {
   "cell_type": "markdown",
   "metadata": {
    "id": "9uWZXH9LwoQg"
   },
   "source": [
    "---"
   ]
  },
  {
   "attachments": {},
   "cell_type": "markdown",
   "metadata": {},
   "source": [
    "# Install python packages in the notebooks"
   ]
  },
  {
   "cell_type": "markdown",
   "metadata": {
    "id": "cqP-UeN-z3i2"
   },
   "source": [
    "# Change working directory"
   ]
  },
  {
   "cell_type": "markdown",
   "metadata": {
    "id": "aOGIGS-uz3i2"
   },
   "source": [
    "We need to change the working directory from its current folder to its parent folder\n",
    "* We access the current directory with os.getcwd()"
   ]
  },
  {
   "cell_type": "code",
   "execution_count": null,
   "metadata": {
    "id": "wZfF_j-Bz3i4"
   },
   "outputs": [],
   "source": [
    "import os\n",
    "current_dir = os.getcwd()\n",
    "current_dir"
   ]
  },
  {
   "cell_type": "markdown",
   "metadata": {
    "id": "9MWW8E7lz3i7"
   },
   "source": [
    "We want to make the parent of the current directory the new current directory.\n",
    "* os.path.dirname() gets the parent directory\n",
    "* os.chir() defines the new current directory"
   ]
  },
  {
   "cell_type": "code",
   "execution_count": null,
   "metadata": {
    "id": "TwHsQRWjz3i9"
   },
   "outputs": [],
   "source": [
    "os.chdir(os.path.dirname(current_dir))\n",
    "print(\"You set a new current directory\")"
   ]
  },
  {
   "cell_type": "markdown",
   "metadata": {
    "id": "M_xPk_Ijz3i-"
   },
   "source": [
    "Confirm the new current directory"
   ]
  },
  {
   "cell_type": "code",
   "execution_count": null,
   "metadata": {
    "id": "vz3S-_kjz3jA"
   },
   "outputs": [],
   "source": [
    "current_dir = os.getcwd()\n",
    "current_dir"
   ]
  },
  {
   "cell_type": "markdown",
   "metadata": {
    "id": "-mavJ8DibrcQ"
   },
   "source": [
    "# Fetch data from Kaggle"
   ]
  },
  {
   "cell_type": "markdown",
   "metadata": {
    "id": "XQrZFfd_J4Ix"
   },
   "source": [
    "Install Kaggle package to fetch data"
   ]
  },
  {
   "cell_type": "code",
   "execution_count": null,
   "metadata": {
    "id": "Xk7DU_ekbtX8"
   },
   "outputs": [],
   "source": [
    "%pip install kaggle==1.5.12"
   ]
  },
  {
   "cell_type": "markdown",
   "metadata": {
    "id": "SdKDhq2OtryL"
   },
   "source": [
    "In the Data Collection Section notebook we studied how to download a **JSON file (authentication token)** from Kaggle. That is needed to authenticate Kaggle to download data in this session.\n",
    "* You will need **kaggle.json** available\n",
    "* In case you don't have it, please refer to the Data Collection > Data Collection Unit 1: Getting Your Data notebook.\n"
   ]
  },
  {
   "cell_type": "markdown",
   "metadata": {
    "id": "jiscbeLUtryM"
   },
   "source": [
    "The next step is to manually drag the kaggle.json into the session"
   ]
  },
  {
   "cell_type": "markdown",
   "metadata": {
    "id": "t3hv6ExCVEwx"
   },
   "source": [
    "Once you do that run the cell below, so the token is recognized in the session"
   ]
  },
  {
   "cell_type": "code",
   "execution_count": null,
   "metadata": {
    "id": "LVlh18YgbyEg"
   },
   "outputs": [],
   "source": [
    "import os\n",
    "os.environ['KAGGLE_CONFIG_DIR'] = os.getcwd()\n",
    "! chmod 600 kaggle.json"
   ]
  },
  {
   "cell_type": "markdown",
   "metadata": {
    "id": "wNYS7ArHuGfT"
   },
   "source": [
    "We are using the following [Kaggle URL](https://www.kaggle.com/datasets/codeinstitute/housing-prices-data)"
   ]
  },
  {
   "cell_type": "markdown",
   "metadata": {
    "id": "ySAC0yIkNJm4"
   },
   "source": [
    "Get the dataset path from the Kaggle url\n",
    "* When you are viewing the dataset at Kaggle, check what is after https://www.kaggle.com/ ."
   ]
  },
  {
   "cell_type": "markdown",
   "metadata": {
    "id": "ZW6SBfh8tryn"
   },
   "source": [
    "Define the Kaggle dataset, and destination folder and download it."
   ]
  },
  {
   "cell_type": "code",
   "execution_count": null,
   "metadata": {
    "id": "Rc45oPyntryo"
   },
   "outputs": [],
   "source": [
    "KaggleDatasetPath = \"codeinstitute/housing-prices-data\"\n",
    "DestinationFolder = \"inputs/datasets/raw/\"   \n",
    "! kaggle datasets download -d {KaggleDatasetPath} -p {DestinationFolder}"
   ]
  },
  {
   "cell_type": "markdown",
   "metadata": {
    "id": "ji0ry2Gotryo"
   },
   "source": [
    "Unzip the downloaded file, delete the zip file and delete the kaggle.json file"
   ]
  },
  {
   "cell_type": "code",
   "execution_count": null,
   "metadata": {
    "id": "bxYIDRGLtryp"
   },
   "outputs": [],
   "source": [
    "! unzip {DestinationFolder}/*.zip -d {DestinationFolder} \\\n",
    "  && rm {DestinationFolder}/*.zip \\\n",
    "  && rm kaggle.json"
   ]
  },
  {
   "cell_type": "markdown",
   "metadata": {
    "id": "ZY3l0-AxO93d"
   },
   "source": [
    "---"
   ]
  },
  {
   "cell_type": "markdown",
   "metadata": {
    "id": "uFQo3ycuO-v6"
   },
   "source": [
    "# Load and Inspect Kaggle data"
   ]
  },
  {
   "cell_type": "code",
   "execution_count": null,
   "metadata": {
    "id": "CjEM52Z1YLRP"
   },
   "outputs": [],
   "source": [
    "import pandas as pd\n",
    "df = pd.read_csv(f\"inputs/datasets/raw/house-price-20211124T154130Z-001/house-price/house_prices_records.csv\")\n",
    "df_inherited = pd.read_csv(f\"inputs/datasets/raw/house-price-20211124T154130Z-001/house-price/inherited_houses.csv\")\n",
    "df.head()"
   ]
  },
  {
   "cell_type": "markdown",
   "metadata": {},
   "source": [
    "Inherited Houses doesn't have the SalePrice column because this is an unknown value at that stage."
   ]
  },
  {
   "cell_type": "code",
   "execution_count": null,
   "metadata": {},
   "outputs": [],
   "source": [
    "df_inherited.head()"
   ]
  },
  {
   "cell_type": "markdown",
   "metadata": {
    "id": "cKG2pKb3hmY4"
   },
   "source": [
    "DataFrame Summary"
   ]
  },
  {
   "cell_type": "code",
   "execution_count": null,
   "metadata": {
    "id": "YtKKWuPhg7r8"
   },
   "outputs": [],
   "source": [
    "df.info()"
   ]
  },
  {
   "cell_type": "code",
   "execution_count": null,
   "metadata": {},
   "outputs": [],
   "source": [
    "df_inherited.info()"
   ]
  },
  {
   "cell_type": "markdown",
   "metadata": {
    "id": "hcB2YJiOH4pm"
   },
   "source": [
    "We want to check if there are any duplicates: There are not."
   ]
  },
  {
   "cell_type": "code",
   "execution_count": null,
   "metadata": {
    "id": "3om7yFYAH1vl"
   },
   "outputs": [],
   "source": [
    "df[df.duplicated(subset=None)]"
   ]
  },
  {
   "cell_type": "code",
   "execution_count": null,
   "metadata": {},
   "outputs": [],
   "source": [
    "df_inherited[df_inherited.duplicated(subset=None)]"
   ]
  },
  {
   "cell_type": "markdown",
   "metadata": {
    "id": "HaObnZm0x8od"
   },
   "source": [
    "We noticed `BsmtExposure` is a categorical variable: Yes or No. We will replace/convert it to an integer as the ML model requires numeric variables. "
   ]
  },
  {
   "cell_type": "code",
   "execution_count": null,
   "metadata": {
    "id": "9ivG1m2Ntryw"
   },
   "outputs": [],
   "source": [
    "df['BsmtExposure'].unique()"
   ]
  },
  {
   "cell_type": "code",
   "execution_count": null,
   "metadata": {
    "id": "AX5SeWxpxg8z"
   },
   "outputs": [],
   "source": [
    "df['BsmtExposure'] = df['BsmtExposure'].replace({\"No\": 2, \"Av\": 1, \"Other\": 0})"
   ]
  },
  {
   "cell_type": "markdown",
   "metadata": {
    "id": "vbo03aCPyKu-"
   },
   "source": [
    "Check the `BsmtExposure` data type."
   ]
  },
  {
   "cell_type": "code",
   "execution_count": null,
   "metadata": {
    "id": "W6vlA0ZxyHeO"
   },
   "outputs": [],
   "source": [
    "df['BsmtExposure'].dtype"
   ]
  },
  {
   "cell_type": "markdown",
   "metadata": {},
   "source": [
    "The data collection is ready to be sent to the repo including the new output directories and csv files."
   ]
  },
  {
   "cell_type": "markdown",
   "metadata": {
    "id": "ltNetd085qHf"
   },
   "source": [
    "# Push files to Repo"
   ]
  },
  {
   "cell_type": "code",
   "execution_count": null,
   "metadata": {
    "id": "aKlnIozA4eQO"
   },
   "outputs": [],
   "source": [
    "import os\n",
    "try:\n",
    "  os.makedirs(name='outputs/datasets/collection') # create outputs/datasets/collection folder\n",
    "except Exception as e:\n",
    "  print(e)\n",
    "\n",
    "df.to_csv(f\"outputs/datasets/collection/HousePrices.csv\",index=False)\n",
    "df_inherited.to_csv(f\"outputs/datasets/collection/InheritedHouses.csv\",index=False)"
   ]
  },
  {
   "cell_type": "markdown",
   "metadata": {},
   "source": [
    "### The next steps\n",
    "Next notebook will be about the Data Study"
   ]
  }
 ],
 "metadata": {
  "accelerator": "GPU",
  "colab": {
   "name": "Data Practitioner Jupyter Notebook.ipynb",
   "provenance": [],
   "toc_visible": true
  },
  "kernelspec": {
   "display_name": "Python 3",
   "language": "python",
   "name": "python3"
  },
  "language_info": {
   "codemirror_mode": {
    "name": "ipython",
    "version": 3
   },
   "file_extension": ".py",
   "mimetype": "text/x-python",
   "name": "python",
   "nbconvert_exporter": "python",
   "pygments_lexer": "ipython3",
   "version": "3.12.1"
  },
  "orig_nbformat": 2
 },
 "nbformat": 4,
 "nbformat_minor": 0
}
